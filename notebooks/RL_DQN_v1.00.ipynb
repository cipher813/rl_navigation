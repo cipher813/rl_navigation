{
 "cells": [
  {
   "cell_type": "code",
   "execution_count": null,
   "metadata": {},
   "outputs": [
    {
     "name": "stdout",
     "output_type": "stream",
     "text": [
      "Begin training Bananas-unity.\n",
      "Module: Bananas-unity\n"
     ]
    },
    {
     "name": "stderr",
     "output_type": "stream",
     "text": [
      "INFO:unityagents:\n",
      "'Academy' started successfully!\n",
      "Unity Academy name: Academy\n",
      "        Number of Brains: 1\n",
      "        Number of External Brains : 1\n",
      "        Lesson number : 0\n",
      "        Reset Parameters :\n",
      "\t\t\n",
      "Unity brain name: BananaBrain\n",
      "        Number of Visual Observations (per agent): 0\n",
      "        Vector Observation space type: continuous\n",
      "        Vector Observation space size (per agent): 37\n",
      "        Number of stacked Vector Observation: 1\n",
      "        Vector Action space type: discrete\n",
      "        Vector Action space size (per agent): 4\n",
      "        Vector Action descriptions: , , , \n"
     ]
    },
    {
     "name": "stdout",
     "output_type": "stream",
     "text": [
      "Episode 100\tAverage Score: 2.63\n",
      "Episode 200\tAverage Score: 7.93\n",
      "Episode 300\tAverage Score: 11.35\n",
      "Episode 381\tAverage Score: 13.01\n",
      "Environment solved in 381 episodes!\tAverage Score: 13.01\n",
      "Checkpoint saved at /Volumes/BC_Clutch/Dropbox/DeepRLND/rl_navigation/models/checkpoint-unity-Vanilla-201811300829.pth\n",
      "Scores pickled at /Volumes/BC_Clutch/Dropbox/DeepRLND/rl_navigation/charts/ResultDict-unity-201811300829.pkl\n",
      "Episode 100\tAverage Score: 0.76\n",
      "Episode 200\tAverage Score: 5.16\n",
      "Episode 300\tAverage Score: 9.67\n",
      "Episode 400\tAverage Score: 11.97\n",
      "Episode 460\tAverage Score: 13.02\n",
      "Environment solved in 460 episodes!\tAverage Score: 13.02\n",
      "Checkpoint saved at /Volumes/BC_Clutch/Dropbox/DeepRLND/rl_navigation/models/checkpoint-unity-Double-201811300829.pth\n",
      "Scores pickled at /Volumes/BC_Clutch/Dropbox/DeepRLND/rl_navigation/charts/ResultDict-unity-201811300829.pkl\n",
      "Episode 100\tAverage Score: 2.31\n",
      "Episode 200\tAverage Score: 6.65\n",
      "Episode 300\tAverage Score: 10.94\n",
      "Episode 307\tAverage Score: 11.24"
     ]
    }
   ],
   "source": [
    "from dqn_helper4 import *\n",
    "\n",
    "import re\n",
    "import datetime\n",
    "# import numpy as np\n",
    "# import pandas as pd\n",
    "\n",
    "# import gym\n",
    "# from unityagents import UnityEnvironment\n",
    "\n",
    "# path information\n",
    "PATH = \"/Volumes/BC_Clutch/Dropbox/DeepRLND/rl_navigation/\"\n",
    "CHART_PATH = PATH + \"charts/\"\n",
    "CHECKPOINT_PATH = PATH + \"models/\"\n",
    "\n",
    "timestamp = re.sub(r\"\\D\",\"\",str(datetime.datetime.now()))[:12]\n",
    "\n",
    "seed = 0\n",
    "n_episodes=3000\n",
    "max_t=1000\n",
    "eps_start=0.4\n",
    "eps_end=0.01\n",
    "eps_decay=0.995\n",
    "\n",
    "rd = {}\n",
    "env_dict = {\n",
    "            \"Bananas\":[\"unity\",13.0],\n",
    "#             \"LunarLander-v2\":[\"gym\",200.0],\n",
    "#             \"CartPole-v0\":[\"gym\",195.0],\n",
    "#             \"MountainCar-v0\":[\"gym\",-110],\n",
    "            }\n",
    "\n",
    "rd = train_envs(PATH, CHART_PATH, CHECKPOINT_PATH, timestamp, env_dict, seed, \n",
    "                n_episodes,max_t,eps_start,eps_end,eps_decay)"
   ]
  },
  {
   "cell_type": "code",
   "execution_count": null,
   "metadata": {
    "collapsed": true
   },
   "outputs": [],
   "source": [
    "results = chart_results(CHART_PATH, rd)"
   ]
  }
 ],
 "metadata": {
  "kernelspec": {
   "display_name": "drlnd",
   "language": "python",
   "name": "drlnd"
  },
  "language_info": {
   "codemirror_mode": {
    "name": "ipython",
    "version": 3
   },
   "file_extension": ".py",
   "mimetype": "text/x-python",
   "name": "python",
   "nbconvert_exporter": "python",
   "pygments_lexer": "ipython3",
   "version": "3.6.7"
  }
 },
 "nbformat": 4,
 "nbformat_minor": 2
}
