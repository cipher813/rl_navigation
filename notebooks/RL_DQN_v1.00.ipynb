{
 "cells": [
  {
   "cell_type": "code",
   "execution_count": null,
   "metadata": {},
   "outputs": [
    {
     "name": "stdout",
     "output_type": "stream",
     "text": [
      "Begin training LunarLander-v2-gym.\n",
      "Module: LunarLander-v2-gym\n",
      "Episode 100\tAverage Score: -233.85\n",
      "Episode 200\tAverage Score: -64.522\n",
      "Episode 300\tAverage Score: -36.45\n",
      "Episode 360\tAverage Score: -34.21"
     ]
    }
   ],
   "source": [
    "from dqn_helper4 import *\n",
    "\n",
    "import re\n",
    "import datetime\n",
    "\n",
    "# path information\n",
    "PATH = \"/Volumes/BC_Clutch/Dropbox/DeepRLND/rl_navigation/\"\n",
    "CHART_PATH = PATH + \"charts/\"\n",
    "CHECKPOINT_PATH = PATH + \"models/\"\n",
    "\n",
    "timestamp = re.sub(r\"\\D\",\"\",str(datetime.datetime.now()))[:12]\n",
    "\n",
    "seed = 0\n",
    "n_episodes=3000\n",
    "max_t=1000\n",
    "eps_start=0.4\n",
    "eps_end=0.01\n",
    "eps_decay=0.995\n",
    "\n",
    "rd = {}\n",
    "env_dict = {\n",
    "#             \"Bananas\":[\"unity\",13.0],\n",
    "            \"LunarLander-v2\":[\"gym\",200.0],\n",
    "            \"CartPole-v0\":[\"gym\",195.0],\n",
    "#             \"MountainCar-v0\":[\"gym\",-110],\n",
    "            }\n",
    "\n",
    "rd = train_envs(PATH, CHART_PATH, CHECKPOINT_PATH, timestamp, env_dict, seed, \n",
    "                n_episodes,max_t,eps_start,eps_end,eps_decay)"
   ]
  },
  {
   "cell_type": "code",
   "execution_count": null,
   "metadata": {
    "collapsed": true
   },
   "outputs": [],
   "source": [
    "results = chart_results(CHART_PATH, rd)"
   ]
  }
 ],
 "metadata": {
  "kernelspec": {
   "display_name": "drlnd",
   "language": "python",
   "name": "drlnd"
  },
  "language_info": {
   "codemirror_mode": {
    "name": "ipython",
    "version": 3
   },
   "file_extension": ".py",
   "mimetype": "text/x-python",
   "name": "python",
   "nbconvert_exporter": "python",
   "pygments_lexer": "ipython3",
   "version": "3.6.7"
  }
 },
 "nbformat": 4,
 "nbformat_minor": 2
}
