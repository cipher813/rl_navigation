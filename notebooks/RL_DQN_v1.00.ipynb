{
 "cells": [
  {
   "cell_type": "code",
   "execution_count": null,
   "metadata": {},
   "outputs": [
    {
     "name": "stdout",
     "output_type": "stream",
     "text": [
      "Begin training LunarLander-v2-gym.\n",
      "Module: LunarLander-v2-gym\n",
      "Agent: Dueling\n",
      "Episode 100\tAverage Score: -227.08\n",
      "Episode 200\tAverage Score: -69.846\n",
      "Episode 300\tAverage Score: -93.70\n",
      "Episode 400\tAverage Score: -70.28\n",
      "Episode 500\tAverage Score: -31.99\n",
      "Episode 600\tAverage Score: -105.10\n",
      "Episode 700\tAverage Score: 3.17623\n",
      "Episode 800\tAverage Score: 153.17\n",
      "Episode 885\tAverage Score: 201.01Environment solved in 885 episodes!\tAverage Score: 201.01\tRuntime: 431.98\n",
      "Checkpoint saved at /Volumes/BC_Clutch/Dropbox/DeepRLND/rl_navigation/models/checkpoint-201811302313-gym-LunarLander-v2-Dueling.pth\n",
      "Scores pickled at /Volumes/BC_Clutch/Dropbox/DeepRLND/rl_navigation/charts/ResultDict-201811302313-gym-LunarLander-v2-Dueling.pkl\n",
      "Agent: PriorityReplay\n",
      "Episode 100\tAverage Score: -215.95\n",
      "Episode 200\tAverage Score: -62.536\n",
      "Episode 300\tAverage Score: -56.60\n",
      "Episode 400\tAverage Score: -6.816\n",
      "Episode 500\tAverage Score: 53.60\n",
      "Episode 589\tAverage Score: 79.60"
     ]
    }
   ],
   "source": [
    "from dqn_helper4 import *\n",
    "\n",
    "import re\n",
    "import datetime\n",
    "\n",
    "# path information\n",
    "PATH = \"/Volumes/BC_Clutch/Dropbox/DeepRLND/rl_navigation/\"\n",
    "CHART_PATH = PATH + \"charts/\"\n",
    "CHECKPOINT_PATH = PATH + \"models/\"\n",
    "\n",
    "timestamp = re.sub(r\"\\D\",\"\",str(datetime.datetime.now()))[:12]\n",
    "\n",
    "seed = 0\n",
    "n_episodes=3000\n",
    "max_t=1000\n",
    "eps_start=0.4\n",
    "eps_end=0.01\n",
    "eps_decay=0.995\n",
    "\n",
    "rd = {}\n",
    "env_dict = {\n",
    "#             \"Bananas\":[\"unity\",13.0],\n",
    "            \"LunarLander-v2\":[\"gym\",200.0],\n",
    "            \"CartPole-v0\":[\"gym\",195.0],\n",
    "            \"MountainCar-v0\":[\"gym\",-110],\n",
    "            }\n",
    "\n",
    "rd = train_envs(PATH, CHART_PATH, CHECKPOINT_PATH, timestamp, env_dict, seed, \n",
    "                n_episodes,max_t,eps_start,eps_end,eps_decay)"
   ]
  },
  {
   "cell_type": "code",
   "execution_count": null,
   "metadata": {
    "collapsed": true
   },
   "outputs": [],
   "source": [
    "results = chart_results(CHART_PATH, rd)"
   ]
  }
 ],
 "metadata": {
  "kernelspec": {
   "display_name": "drlnd",
   "language": "python",
   "name": "drlnd"
  },
  "language_info": {
   "codemirror_mode": {
    "name": "ipython",
    "version": 3
   },
   "file_extension": ".py",
   "mimetype": "text/x-python",
   "name": "python",
   "nbconvert_exporter": "python",
   "pygments_lexer": "ipython3",
   "version": "3.6.7"
  }
 },
 "nbformat": 4,
 "nbformat_minor": 2
}
