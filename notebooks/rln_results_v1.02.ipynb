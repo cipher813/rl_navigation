{
 "cells": [
  {
   "cell_type": "markdown",
   "metadata": {},
   "source": [
    "# RL_Navigation Results"
   ]
  },
  {
   "cell_type": "code",
   "execution_count": 1,
   "metadata": {
    "collapsed": true
   },
   "outputs": [],
   "source": [
    "import pickle\n",
    "import numpy as np\n",
    "import pandas as pd\n",
    "import matplotlib.pyplot as plt\n",
    "from IPython.display import display"
   ]
  },
  {
   "cell_type": "code",
   "execution_count": 2,
   "metadata": {
    "collapsed": true
   },
   "outputs": [],
   "source": [
    "PATH = \"/Volumes/BC_Clutch/Dropbox/DeepRLND/rl_navigation/\"\n",
    "CHART_PATH = PATH + \"charts/\"\n",
    "\n",
    "roll_length = 100"
   ]
  },
  {
   "cell_type": "code",
   "execution_count": 5,
   "metadata": {},
   "outputs": [],
   "source": [
    "def chart_results(CHART_PATH, pklfile):\n",
    "    pklpath = CHART_PATH + pklfile\n",
    "    timestamp = pklpath.split(\".\")[-2].split(\"-\")[-1]\n",
    "    chartpath = CHART_PATH + f\"NavigationTrainChart-{timestamp}.png\"\n",
    "\n",
    "    with open(pklpath, 'rb') as handle:\n",
    "        results = pd.DataFrame(pickle.load(handle))\n",
    "    fig = plt.figure()\n",
    "    ax = fig.add_subplot(111)\n",
    "    for mod in results.columns:\n",
    "        scores = results[mod]['scores']\n",
    "        avg_scores = []\n",
    "        for i in range(1,len(scores)+1):\n",
    "            start = np.max(i-roll_length,0)\n",
    "            end = i\n",
    "            nm = np.sum(scores[start:end])\n",
    "            dn = len(scores[start:end])\n",
    "            avg_scores.append(nm/dn)\n",
    "        plt.plot(np.arange(len(scores)), avg_scores,label=mod)\n",
    "        plt.ylabel('Score')\n",
    "        plt.xlabel('Episode #')\n",
    "        plt.legend()\n",
    "    plt.savefig(chartpath)\n",
    "    print(f\"Chart saved at {chartpath}\")\n",
    "    plt.show()\n",
    "    display(results)\n",
    "    return results"
   ]
  },
  {
   "cell_type": "code",
   "execution_count": 6,
   "metadata": {},
   "outputs": [
    {
     "name": "stderr",
     "output_type": "stream",
     "text": [
      "/Users/brianmcmahon/anaconda3/envs/ipykernel_py3/lib/python3.6/site-packages/ipykernel_launcher.py:18: RuntimeWarning: invalid value encountered in double_scalars\n"
     ]
    },
    {
     "name": "stdout",
     "output_type": "stream",
     "text": [
      "Chart saved at /Volumes/BC_Clutch/Dropbox/DeepRLND/rl_navigation/charts/NavigationTrainChart-201811240921.png\n"
     ]
    },
    {
     "data": {
      "image/png": "[encoded data removed]",
      "text/plain": [
       "<Figure size 432x288 with 1 Axes>"
      ]
     },
     "metadata": {},
     "output_type": "display_data"
    },
    {
     "data": {
      "text/html": [
       "<div>\n",
       "<style scoped>\n",
       "    .dataframe tbody tr th:only-of-type {\n",
       "        vertical-align: middle;\n",
       "    }\n",
       "\n",
       "    .dataframe tbody tr th {\n",
       "        vertical-align: top;\n",
       "    }\n",
       "\n",
       "    .dataframe thead th {\n",
       "        text-align: right;\n",
       "    }\n",
       "</style>\n",
       "<table border=\"1\" class=\"dataframe\">\n",
       "  <thead>\n",
       "    <tr style=\"text-align: right;\">\n",
       "      <th></th>\n",
       "      <th>Base</th>\n",
       "      <th>Double</th>\n",
       "      <th>PrioritizedReplay</th>\n",
       "    </tr>\n",
       "  </thead>\n",
       "  <tbody>\n",
       "    <tr>\n",
       "      <th>action_size</th>\n",
       "      <td>4</td>\n",
       "      <td>4</td>\n",
       "      <td>4</td>\n",
       "    </tr>\n",
       "    <tr>\n",
       "      <th>eps_decay</th>\n",
       "      <td>0.995</td>\n",
       "      <td>0.995</td>\n",
       "      <td>0.995</td>\n",
       "    </tr>\n",
       "    <tr>\n",
       "      <th>eps_end</th>\n",
       "      <td>0.01</td>\n",
       "      <td>0.01</td>\n",
       "      <td>0.01</td>\n",
       "    </tr>\n",
       "    <tr>\n",
       "      <th>eps_start</th>\n",
       "      <td>0.4</td>\n",
       "      <td>0.4</td>\n",
       "      <td>0.4</td>\n",
       "    </tr>\n",
       "    <tr>\n",
       "      <th>max_t</th>\n",
       "      <td>1000</td>\n",
       "      <td>1000</td>\n",
       "      <td>1000</td>\n",
       "    </tr>\n",
       "    <tr>\n",
       "      <th>n_episodes</th>\n",
       "      <td>1000</td>\n",
       "      <td>1000</td>\n",
       "      <td>1000</td>\n",
       "    </tr>\n",
       "    <tr>\n",
       "      <th>scores</th>\n",
       "      <td>[0.0, 2.0, 1.0, 0.0, 2.0, -3.0, 1.0, -1.0, 0.0...</td>\n",
       "      <td>[0.0, 0.0, 1.0, 3.0, 0.0, 0.0, 1.0, 1.0, -1.0,...</td>\n",
       "      <td>[0.0, 0.0, -1.0, 0.0, 0.0, 0.0, 0.0, -2.0, 0.0...</td>\n",
       "    </tr>\n",
       "    <tr>\n",
       "      <th>seed</th>\n",
       "      <td>0</td>\n",
       "      <td>0</td>\n",
       "      <td>0</td>\n",
       "    </tr>\n",
       "    <tr>\n",
       "      <th>state_size</th>\n",
       "      <td>37</td>\n",
       "      <td>37</td>\n",
       "      <td>37</td>\n",
       "    </tr>\n",
       "    <tr>\n",
       "      <th>train_mode</th>\n",
       "      <td>True</td>\n",
       "      <td>True</td>\n",
       "      <td>True</td>\n",
       "    </tr>\n",
       "  </tbody>\n",
       "</table>\n",
       "</div>"
      ],
      "text/plain": [
       "                                                          Base  \\\n",
       "action_size                                                  4   \n",
       "eps_decay                                                0.995   \n",
       "eps_end                                                   0.01   \n",
       "eps_start                                                  0.4   \n",
       "max_t                                                     1000   \n",
       "n_episodes                                                1000   \n",
       "scores       [0.0, 2.0, 1.0, 0.0, 2.0, -3.0, 1.0, -1.0, 0.0...   \n",
       "seed                                                         0   \n",
       "state_size                                                  37   \n",
       "train_mode                                                True   \n",
       "\n",
       "                                                        Double  \\\n",
       "action_size                                                  4   \n",
       "eps_decay                                                0.995   \n",
       "eps_end                                                   0.01   \n",
       "eps_start                                                  0.4   \n",
       "max_t                                                     1000   \n",
       "n_episodes                                                1000   \n",
       "scores       [0.0, 0.0, 1.0, 3.0, 0.0, 0.0, 1.0, 1.0, -1.0,...   \n",
       "seed                                                         0   \n",
       "state_size                                                  37   \n",
       "train_mode                                                True   \n",
       "\n",
       "                                             PrioritizedReplay  \n",
       "action_size                                                  4  \n",
       "eps_decay                                                0.995  \n",
       "eps_end                                                   0.01  \n",
       "eps_start                                                  0.4  \n",
       "max_t                                                     1000  \n",
       "n_episodes                                                1000  \n",
       "scores       [0.0, 0.0, -1.0, 0.0, 0.0, 0.0, 0.0, -2.0, 0.0...  \n",
       "seed                                                         0  \n",
       "state_size                                                  37  \n",
       "train_mode                                                True  "
      ]
     },
     "metadata": {},
     "output_type": "display_data"
    }
   ],
   "source": [
    "results = chart_results(CHART_PATH, \"ResultDict-201811240921.pkl\")"
   ]
  },
  {
   "cell_type": "code",
   "execution_count": null,
   "metadata": {
    "collapsed": true
   },
   "outputs": [],
   "source": []
  }
 ],
 "metadata": {
  "kernelspec": {
   "display_name": "Ipykernel (Python3.6)",
   "language": "python",
   "name": "ipykernel_py3"
  },
  "language_info": {
   "codemirror_mode": {
    "name": "ipython",
    "version": 3
   },
   "file_extension": ".py",
   "mimetype": "text/x-python",
   "name": "python",
   "nbconvert_exporter": "python",
   "pygments_lexer": "ipython3",
   "version": "3.6.6"
  }
 },
 "nbformat": 4,
 "nbformat_minor": 2
}
