{
 "cells": [
  {
   "cell_type": "markdown",
   "metadata": {},
   "source": [
    "# RL_Navigation Results"
   ]
  },
  {
   "cell_type": "code",
   "execution_count": 1,
   "metadata": {
    "collapsed": true
   },
   "outputs": [],
   "source": [
    "import pickle\n",
    "import numpy as np\n",
    "import pandas as pd\n",
    "import matplotlib.pyplot as plt\n",
    "from IPython.display import display"
   ]
  },
  {
   "cell_type": "code",
   "execution_count": 2,
   "metadata": {
    "collapsed": true
   },
   "outputs": [],
   "source": [
    "PATH = \"/Volumes/BC_Clutch/Dropbox/DeepRLND/rl_navigation/\"\n",
    "CHART_PATH = PATH + \"charts/\"\n",
    "\n",
    "roll_length = 100"
   ]
  },
  {
   "cell_type": "code",
   "execution_count": 3,
   "metadata": {
    "collapsed": true
   },
   "outputs": [],
   "source": [
    "def chart_results(CHART_PATH, pklfile):\n",
    "    pklpath = CHART_PATH + pklfile\n",
    "    timestamp = pklpath.split(\".\")[-2].split(\"-\")[-1]\n",
    "    chartpath = CHART_PATH + f\"NavigationTrainChart-{timestamp}.png\"\n",
    "\n",
    "    with open(pklpath, 'rb') as handle:\n",
    "        results = pd.DataFrame(pickle.load(handle))\n",
    "    fig = plt.figure()\n",
    "    ax = fig.add_subplot(111)\n",
    "    for mod in results.columns:\n",
    "        scores = results[mod]['scores']\n",
    "        avg_scores = []\n",
    "        for i in range(1,len(scores)+1):\n",
    "            start = np.max(i-roll_length,0)\n",
    "            end = i\n",
    "            nm = np.sum(scores[start:end])\n",
    "            dn = len(scores[start:end])\n",
    "            avg_scores.append(nm/dn)\n",
    "        plt.plot(np.arange(len(scores)), avg_scores,label=mod)\n",
    "        plt.ylabel('Score')\n",
    "        plt.xlabel('Episode #')\n",
    "        plt.legend()\n",
    "    plt.savefig(chartpath)\n",
    "    print(f\"Chart saved at {chartpath}\")\n",
    "    plt.show()\n",
    "    display(results)\n",
    "    return results"
   ]
  },
  {
   "cell_type": "code",
   "execution_count": 4,
   "metadata": {},
   "outputs": [
    {
     "name": "stderr",
     "output_type": "stream",
     "text": [
      "/Users/brianmcmahon/anaconda3/envs/ipykernel_py3/lib/python3.6/site-packages/ipykernel_launcher.py:18: RuntimeWarning: invalid value encountered in double_scalars\n"
     ]
    },
    {
     "name": "stdout",
     "output_type": "stream",
     "text": [
      "Chart saved at /Volumes/BC_Clutch/Dropbox/DeepRLND/rl_navigation/charts/NavigationTrainChart-201811240921.png\n"
     ]
    },
    {
     "data": {
      "image/png": "[encoded data removed]",
      "text/plain": [
       "<Figure size 432x288 with 1 Axes>"
      ]
     },
     "metadata": {},
     "output_type": "display_data"
    },
    {
     "data": {
      "text/html": [
       "<div>\n",
       "<style scoped>\n",
       "    .dataframe tbody tr th:only-of-type {\n",
       "        vertical-align: middle;\n",
       "    }\n",
       "\n",
       "    .dataframe tbody tr th {\n",
       "        vertical-align: top;\n",
       "    }\n",
       "\n",
       "    .dataframe thead th {\n",
       "        text-align: right;\n",
       "    }\n",
       "</style>\n",
       "<table border=\"1\" class=\"dataframe\">\n",
       "  <thead>\n",
       "    <tr style=\"text-align: right;\">\n",
       "      <th></th>\n",
       "      <th>Base</th>\n",
       "      <th>Double</th>\n",
       "      <th>PrioritizedReplay</th>\n",
       "    </tr>\n",
       "  </thead>\n",
       "  <tbody>\n",
       "    <tr>\n",
       "      <th>action_size</th>\n",
       "      <td>4</td>\n",
       "      <td>4</td>\n",
       "      <td>4</td>\n",
       "    </tr>\n",
       "    <tr>\n",
       "      <th>eps_decay</th>\n",
       "      <td>0.995</td>\n",
       "      <td>0.995</td>\n",
       "      <td>0.995</td>\n",
       "    </tr>\n",
       "    <tr>\n",
       "      <th>eps_end</th>\n",
       "      <td>0.01</td>\n",
       "      <td>0.01</td>\n",
       "      <td>0.01</td>\n",
       "    </tr>\n",
       "    <tr>\n",
       "      <th>eps_start</th>\n",
       "      <td>0.4</td>\n",
       "      <td>0.4</td>\n",
       "      <td>0.4</td>\n",
       "    </tr>\n",
       "    <tr>\n",
       "      <th>max_t</th>\n",
       "      <td>1000</td>\n",
       "      <td>1000</td>\n",
       "      <td>1000</td>\n",
       "    </tr>\n",
       "    <tr>\n",
       "      <th>n_episodes</th>\n",
       "      <td>1000</td>\n",
       "      <td>1000</td>\n",
       "      <td>1000</td>\n",
       "    </tr>\n",
       "    <tr>\n",
       "      <th>scores</th>\n",
       "      <td>[0.0, 2.0, 1.0, 0.0, 2.0, -3.0, 1.0, -1.0, 0.0...</td>\n",
       "      <td>[0.0, 0.0, 1.0, 3.0, 0.0, 0.0, 1.0, 1.0, -1.0,...</td>\n",
       "      <td>[0.0, 0.0, -1.0, 0.0, 0.0, 0.0, 0.0, -2.0, 0.0...</td>\n",
       "    </tr>\n",
       "    <tr>\n",
       "      <th>seed</th>\n",
       "      <td>0</td>\n",
       "      <td>0</td>\n",
       "      <td>0</td>\n",
       "    </tr>\n",
       "    <tr>\n",
       "      <th>state_size</th>\n",
       "      <td>37</td>\n",
       "      <td>37</td>\n",
       "      <td>37</td>\n",
       "    </tr>\n",
       "    <tr>\n",
       "      <th>train_mode</th>\n",
       "      <td>True</td>\n",
       "      <td>True</td>\n",
       "      <td>True</td>\n",
       "    </tr>\n",
       "  </tbody>\n",
       "</table>\n",
       "</div>"
      ],
      "text/plain": [
       "                                                          Base  \\\n",
       "action_size                                                  4   \n",
       "eps_decay                                                0.995   \n",
       "eps_end                                                   0.01   \n",
       "eps_start                                                  0.4   \n",
       "max_t                                                     1000   \n",
       "n_episodes                                                1000   \n",
       "scores       [0.0, 2.0, 1.0, 0.0, 2.0, -3.0, 1.0, -1.0, 0.0...   \n",
       "seed                                                         0   \n",
       "state_size                                                  37   \n",
       "train_mode                                                True   \n",
       "\n",
       "                                                        Double  \\\n",
       "action_size                                                  4   \n",
       "eps_decay                                                0.995   \n",
       "eps_end                                                   0.01   \n",
       "eps_start                                                  0.4   \n",
       "max_t                                                     1000   \n",
       "n_episodes                                                1000   \n",
       "scores       [0.0, 0.0, 1.0, 3.0, 0.0, 0.0, 1.0, 1.0, -1.0,...   \n",
       "seed                                                         0   \n",
       "state_size                                                  37   \n",
       "train_mode                                                True   \n",
       "\n",
       "                                             PrioritizedReplay  \n",
       "action_size                                                  4  \n",
       "eps_decay                                                0.995  \n",
       "eps_end                                                   0.01  \n",
       "eps_start                                                  0.4  \n",
       "max_t                                                     1000  \n",
       "n_episodes                                                1000  \n",
       "scores       [0.0, 0.0, -1.0, 0.0, 0.0, 0.0, 0.0, -2.0, 0.0...  \n",
       "seed                                                         0  \n",
       "state_size                                                  37  \n",
       "train_mode                                                True  "
      ]
     },
     "metadata": {},
     "output_type": "display_data"
    }
   ],
   "source": [
    "results = chart_results(CHART_PATH, \"ResultDict-201811240921.pkl\")"
   ]
  },
  {
   "cell_type": "code",
   "execution_count": 5,
   "metadata": {},
   "outputs": [
    {
     "data": {
      "text/plain": [
       "{'LunarLander-v2': {'Vanilla': {'scores': [-243.96862436048553,\n",
       "    -108.57902077409787],\n",
       "   'clocktime': 0.01},\n",
       "  'Double': {'scores': [-84.58354414940162], 'clocktime': 0.01},\n",
       "  'PriorityReplay': {'scores': [-138.27941090866352], 'clocktime': 0.01}},\n",
       " 'CartPole-v0': {'Vanilla': {'scores': [13.0], 'clocktime': 0.0},\n",
       "  'Double': {'scores': [12.0], 'clocktime': 0.0},\n",
       "  'PriorityReplay': {'scores': [11.0], 'clocktime': 0.0}},\n",
       " 'MountainCar-v0': {'Vanilla': {'scores': [-200.0], 'clocktime': 0.0},\n",
       "  'Double': {'scores': [-200.0], 'clocktime': 0.01},\n",
       "  'PriorityReplay': {'scores': [-200.0], 'clocktime': 0.01}}}"
      ]
     },
     "execution_count": 5,
     "metadata": {},
     "output_type": "execute_result"
    }
   ],
   "source": [
    "pklpath = CHART_PATH + \"ResultDict-AllGym-201811260836.pkl\"\n",
    "with open(pklpath, 'rb') as handle:\n",
    "    results = pickle.load(handle)\n",
    "results"
   ]
  },
  {
   "cell_type": "code",
   "execution_count": 6,
   "metadata": {},
   "outputs": [
    {
     "data": {
      "text/plain": [
       "dict_keys(['LunarLander-v2', 'CartPole-v0', 'MountainCar-v0'])"
      ]
     },
     "execution_count": 6,
     "metadata": {},
     "output_type": "execute_result"
    }
   ],
   "source": [
    "results.keys()"
   ]
  },
  {
   "cell_type": "code",
   "execution_count": 7,
   "metadata": {},
   "outputs": [
    {
     "data": {
      "text/plain": [
       "[-84.58354414940162]"
      ]
     },
     "execution_count": 7,
     "metadata": {},
     "output_type": "execute_result"
    }
   ],
   "source": [
    "results['LunarLander-v2']['Double']['scores']"
   ]
  },
  {
   "cell_type": "code",
   "execution_count": 8,
   "metadata": {
    "collapsed": true
   },
   "outputs": [],
   "source": [
    "def chart_results2(CHART_PATH, pklfile):\n",
    "    pklpath = CHART_PATH + pklfile\n",
    "    timestamp = pklpath.split(\".\")[-2].split(\"-\")[-1]\n",
    "\n",
    "    with open(pklpath, 'rb') as handle:\n",
    "        results = pickle.load(handle)\n",
    "    for module in results.keys():\n",
    "        mod_data = results[module]\n",
    "        fig = plt.figure()\n",
    "        ax = fig.add_subplot(111)\n",
    "        for key in mod_data.keys():\n",
    "            scores = mod_data[key]['scores']\n",
    "            avg_scores = []\n",
    "            for i in range(1,len(scores)+1):\n",
    "                start = np.max(i-roll_length,0)\n",
    "                end = i\n",
    "                nm = np.sum(scores[start:end])\n",
    "                dn = len(scores[start:end])\n",
    "                avg_scores.append(nm/dn)\n",
    "            plt.plot(np.arange(len(scores)), avg_scores,label=key)\n",
    "            plt.ylabel('Score')\n",
    "            plt.xlabel('Episode #')\n",
    "            plt.title(f\"{module}\")\n",
    "            plt.legend()\n",
    "        chartpath = CHART_PATH + f\"NavigationTrainChart-{timestamp}-{module}-{key}.png\"\n",
    "        plt.savefig(chartpath)\n",
    "        print(f\"Chart saved at {chartpath}\")\n",
    "    plt.show()   \n",
    "    display(pd.DataFrame(results))\n",
    "    return results"
   ]
  },
  {
   "cell_type": "code",
   "execution_count": 9,
   "metadata": {},
   "outputs": [
    {
     "name": "stdout",
     "output_type": "stream",
     "text": [
      "Chart saved at /Volumes/BC_Clutch/Dropbox/DeepRLND/rl_navigation/charts/NavigationTrainChart-201811260836-LunarLander-v2-PriorityReplay.png\n",
      "Chart saved at /Volumes/BC_Clutch/Dropbox/DeepRLND/rl_navigation/charts/NavigationTrainChart-201811260836-CartPole-v0-PriorityReplay.png\n",
      "Chart saved at /Volumes/BC_Clutch/Dropbox/DeepRLND/rl_navigation/charts/NavigationTrainChart-201811260836-MountainCar-v0-PriorityReplay.png\n"
     ]
    },
    {
     "data": {
      "image/png": "[encoded data removed]",
      "text/plain": [
       "<Figure size 432x288 with 1 Axes>"
      ]
     },
     "metadata": {},
     "output_type": "display_data"
    },
    {
     "data": {
      "image/png": "[encoded data removed]",
      "text/plain": [
       "<Figure size 432x288 with 1 Axes>"
      ]
     },
     "metadata": {},
     "output_type": "display_data"
    },
    {
     "data": {
      "image/png": "[encoded data removed]",
      "text/plain": [
       "<Figure size 432x288 with 1 Axes>"
      ]
     },
     "metadata": {},
     "output_type": "display_data"
    },
    {
     "data": {
      "text/html": [
       "<div>\n",
       "<style scoped>\n",
       "    .dataframe tbody tr th:only-of-type {\n",
       "        vertical-align: middle;\n",
       "    }\n",
       "\n",
       "    .dataframe tbody tr th {\n",
       "        vertical-align: top;\n",
       "    }\n",
       "\n",
       "    .dataframe thead th {\n",
       "        text-align: right;\n",
       "    }\n",
       "</style>\n",
       "<table border=\"1\" class=\"dataframe\">\n",
       "  <thead>\n",
       "    <tr style=\"text-align: right;\">\n",
       "      <th></th>\n",
       "      <th>LunarLander-v2</th>\n",
       "      <th>CartPole-v0</th>\n",
       "      <th>MountainCar-v0</th>\n",
       "    </tr>\n",
       "  </thead>\n",
       "  <tbody>\n",
       "    <tr>\n",
       "      <th>Double</th>\n",
       "      <td>{'scores': [-84.58354414940162], 'clocktime': ...</td>\n",
       "      <td>{'scores': [12.0], 'clocktime': 0.0}</td>\n",
       "      <td>{'scores': [-200.0], 'clocktime': 0.01}</td>\n",
       "    </tr>\n",
       "    <tr>\n",
       "      <th>PriorityReplay</th>\n",
       "      <td>{'scores': [-138.27941090866352], 'clocktime':...</td>\n",
       "      <td>{'scores': [11.0], 'clocktime': 0.0}</td>\n",
       "      <td>{'scores': [-200.0], 'clocktime': 0.01}</td>\n",
       "    </tr>\n",
       "    <tr>\n",
       "      <th>Vanilla</th>\n",
       "      <td>{'scores': [-243.96862436048553, -108.57902077...</td>\n",
       "      <td>{'scores': [13.0], 'clocktime': 0.0}</td>\n",
       "      <td>{'scores': [-200.0], 'clocktime': 0.0}</td>\n",
       "    </tr>\n",
       "  </tbody>\n",
       "</table>\n",
       "</div>"
      ],
      "text/plain": [
       "                                                   LunarLander-v2  \\\n",
       "Double          {'scores': [-84.58354414940162], 'clocktime': ...   \n",
       "PriorityReplay  {'scores': [-138.27941090866352], 'clocktime':...   \n",
       "Vanilla         {'scores': [-243.96862436048553, -108.57902077...   \n",
       "\n",
       "                                         CartPole-v0  \\\n",
       "Double          {'scores': [12.0], 'clocktime': 0.0}   \n",
       "PriorityReplay  {'scores': [11.0], 'clocktime': 0.0}   \n",
       "Vanilla         {'scores': [13.0], 'clocktime': 0.0}   \n",
       "\n",
       "                                         MountainCar-v0  \n",
       "Double          {'scores': [-200.0], 'clocktime': 0.01}  \n",
       "PriorityReplay  {'scores': [-200.0], 'clocktime': 0.01}  \n",
       "Vanilla          {'scores': [-200.0], 'clocktime': 0.0}  "
      ]
     },
     "metadata": {},
     "output_type": "display_data"
    }
   ],
   "source": [
    "results = chart_results2(CHART_PATH, \"ResultDict-AllGym-201811260836.pkl\")"
   ]
  },
  {
   "cell_type": "code",
   "execution_count": null,
   "metadata": {
    "collapsed": true
   },
   "outputs": [],
   "source": []
  }
 ],
 "metadata": {
  "kernelspec": {
   "display_name": "Ipykernel (Python3.6)",
   "language": "python",
   "name": "ipykernel_py3"
  },
  "language_info": {
   "codemirror_mode": {
    "name": "ipython",
    "version": 3
   },
   "file_extension": ".py",
   "mimetype": "text/x-python",
   "name": "python",
   "nbconvert_exporter": "python",
   "pygments_lexer": "ipython3",
   "version": "3.6.6"
  }
 },
 "nbformat": 4,
 "nbformat_minor": 2
}
