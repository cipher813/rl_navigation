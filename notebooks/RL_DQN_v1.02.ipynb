{
 "cells": [
  {
   "cell_type": "code",
   "execution_count": null,
   "metadata": {},
   "outputs": [
    {
     "name": "stdout",
     "output_type": "stream",
     "text": [
      "Begin training Banana_Linux_NoVis/Banana.x86_64-unity.\n",
      "Module: Banana_Linux_NoVis/Banana.x86_64-unity\n"
     ]
    },
    {
     "name": "stderr",
     "output_type": "stream",
     "text": [
      "INFO:unityagents:\n",
      "'Academy' started successfully!\n",
      "Unity Academy name: Academy\n",
      "        Number of Brains: 1\n",
      "        Number of External Brains : 1\n",
      "        Lesson number : 0\n",
      "        Reset Parameters :\n",
      "\t\t\n",
      "Unity brain name: BananaBrain\n",
      "        Number of Visual Observations (per agent): 0\n",
      "        Vector Observation space type: continuous\n",
      "        Vector Observation space size (per agent): 37\n",
      "        Number of stacked Vector Observation: 1\n",
      "        Vector Action space type: discrete\n",
      "        Vector Action space size (per agent): 4\n",
      "        Vector Action descriptions: , , , \n"
     ]
    },
    {
     "name": "stdout",
     "output_type": "stream",
     "text": [
      "Agent: A3C\n",
      "Episode 100\tAverage Score: 2.26\n",
      "Episode 200\tAverage Score: 7.42\n",
      "Episode 291\tAverage Score: 10.86"
     ]
    }
   ],
   "source": [
    "from dqn_helper5 import *\n",
    "\n",
    "import re\n",
    "import datetime\n",
    "\n",
    "# path information\n",
    "# PATH = \"/Volumes/BC_Clutch/Dropbox/DeepRLND/rl_navigation/\" # for mac\n",
    "PATH = \"/home/brianmcmahon/rl_navigation/\" # for google cloud\n",
    "CHART_PATH = PATH + \"charts/\"\n",
    "CHECKPOINT_PATH = PATH + \"models/\"\n",
    "\n",
    "timestamp = re.sub(r\"\\D\",\"\",str(datetime.datetime.now()))[:12]\n",
    "\n",
    "seed = 0\n",
    "n_episodes=3000\n",
    "max_t=1000\n",
    "eps_start=0.4\n",
    "eps_end=0.01\n",
    "eps_decay=0.995\n",
    "\n",
    "rd = {}\n",
    "env_dict = {\n",
    "            # unity, for google cloud \n",
    "            \"Banana_Linux_NoVis/Banana.x86_64\":[\"unity\",13.0],\n",
    "            \"VisualBanana_Linux_NoVis/Banana.x86_64\":[\"unity\",13.0],\n",
    "    \n",
    "            # unity, for mac\n",
    "#             \"Banana.app\":[\"unity\",13.0],\n",
    "#             \"VisualBanana.app\":[\"unity\",13.0],\n",
    "            \n",
    "            # OpenAI Gym\n",
    "#             \"LunarLander-v2\":[\"gym\",200.0],\n",
    "#             \"CartPole-v0\":[\"gym\",195.0],\n",
    "#             \"MountainCar-v0\":[\"gym\",-110],\n",
    "            }\n",
    "\n",
    "agent_dict = {\n",
    "              \"A3C\":A3C,\n",
    "              \"Dueling\":Dueling,\n",
    "              \"PriorityReplay\":PriorityReplay,\n",
    "              \"Double\":Double,\n",
    "              \"Vanilla\":Vanilla\n",
    "             }\n",
    "\n",
    "rd = train_envs(PATH, CHART_PATH, CHECKPOINT_PATH, agent_dict, timestamp, env_dict, seed, \n",
    "                n_episodes,max_t,eps_start,eps_end,eps_decay)"
   ]
  },
  {
   "cell_type": "code",
   "execution_count": null,
   "metadata": {},
   "outputs": [],
   "source": [
    "results = chart_results(CHART_PATH, rd)"
   ]
  },
  {
   "cell_type": "code",
   "execution_count": null,
   "metadata": {},
   "outputs": [],
   "source": []
  }
 ],
 "metadata": {
  "kernelspec": {
   "display_name": "DRLND",
   "language": "python",
   "name": "drlnd"
  },
  "language_info": {
   "codemirror_mode": {
    "name": "ipython",
    "version": 3
   },
   "file_extension": ".py",
   "mimetype": "text/x-python",
   "name": "python",
   "nbconvert_exporter": "python",
   "pygments_lexer": "ipython3",
   "version": "3.6.7"
  }
 },
 "nbformat": 4,
 "nbformat_minor": 2
}
