{
 "cells": [
  {
   "cell_type": "markdown",
   "metadata": {},
   "source": [
    "### Deep Q Network"
   ]
  },
  {
   "cell_type": "code",
   "execution_count": 1,
   "metadata": {
    "collapsed": true
   },
   "outputs": [],
   "source": [
    "\"\"\"\n",
    "DQN implementations.\n",
    "Adapted from code at https://github.com/udacity/deep-reinforcement-learning/tree/master/dqn\n",
    "\"\"\"\n",
    "from dqn_helper2 import *\n",
    "\n",
    "import numpy as np\n",
    "import pandas as pd\n",
    "\n",
    "import gym\n",
    "from unityagents import UnityEnvironment"
   ]
  },
  {
   "cell_type": "code",
   "execution_count": 2,
   "metadata": {
    "collapsed": true
   },
   "outputs": [],
   "source": [
    "# path information\n",
    "PATH = \"/Volumes/BC_Clutch/Dropbox/DeepRLND/rl_navigation/\"\n",
    "CHART_PATH = PATH + \"charts/\"\n",
    "CHECKPOINT_PATH = PATH + \"models/\""
   ]
  },
  {
   "cell_type": "code",
   "execution_count": 3,
   "metadata": {},
   "outputs": [],
   "source": [
    "def train_unity(APP_PATH, CHART_PATH, timestamp, seed, score_target, \n",
    "                n_episodes,max_t,eps_start,eps_end,eps_decay):\n",
    "    label = \"unity\"\n",
    "    start = time.time()\n",
    "    env = UnityEnvironment(file_name=APP_PATH)\n",
    "    brain_name = env.brain_names[0]\n",
    "    brain = env.brains[brain_name]\n",
    "    env_info = env.reset()[brain_name]\n",
    "    state_size = len(env_info.vector_observations[0])\n",
    "    action_size = brain.vector_action_space_size   \n",
    "    agent_dict = {\n",
    "              \"Vanilla\":Vanilla(state_size, action_size, seed),\n",
    "              \"Double\":Double(state_size, action_size, seed),\n",
    "              \"PriorityReplay\":PriorityReplay(state_size, action_size, seed)\n",
    "             }\n",
    "    result_dict = {}\n",
    "    for k,v in agent_dict.items():\n",
    "        agent_name = k\n",
    "        agent = v\n",
    "        scores = []                        # list containing scores from each episode\n",
    "        scores_window = deque(maxlen=100)  # last 100 scores\n",
    "        eps = eps_start\n",
    "        for i_episode in range(1, n_episodes+1):\n",
    "            state = env.reset()\n",
    "            score = 0\n",
    "            for t in range(max_t):\n",
    "                state = env_info.vector_observations[0]  # get the current state\n",
    "                action = agent.act(state,eps)\n",
    "                env_info = env.step(action)[brain_name]        # send the action to the environment\n",
    "                next_state = env_info.vector_observations[0]   # get the next state\n",
    "                reward = env_info.rewards[0]                   # get the reward\n",
    "                done = env_info.local_done[0]\n",
    "                agent.step(state, action, reward, next_state, done)\n",
    "                score += reward                                # update the score\n",
    "                state = next_state                             # roll over the state to next time step\n",
    "                if done:                                       # exit loop if episode finished\n",
    "                    break\n",
    "            scores_window.append(score)       # save most recent score\n",
    "            scores.append(score)              # save most recent score\n",
    "            eps = max(eps_end, eps_decay*eps) # decrease epsilon\n",
    "            print('\\rEpisode {}\\tAverage Score: {:.2f}'.format(i_episode, np.mean(scores_window)), end=\"\")\n",
    "            if i_episode % 100 == 0:\n",
    "                print('\\rEpisode {}\\tAverage Score: {:.2f}'.format(i_episode, np.mean(scores_window)))\n",
    "            if np.mean(scores_window)>=score_target:\n",
    "                print('\\nEnvironment solved in {:d} episodes!\\tAverage Score: {:.2f}'.format(i_episode, np.mean(scores_window)))\n",
    "                checkpath = CHECKPOINT_PATH + f'checkpoint-{label}-{agent_name}-{timestamp}.pth'\n",
    "                torch.save(agent.qnetwork_local.state_dict(), checkpath)\n",
    "                print(f\"Checkpoint saved at {checkpath}\")\n",
    "                break\n",
    "        end = time.time()\n",
    "        result_dict[agent_name] = {\n",
    "                        \"scores\":scores,\n",
    "                        \"clocktime\":round((end-start)/60,2)\n",
    "                        }\n",
    "    pklpath = CHART_PATH + f\"ResultDict-{label}-{timestamp}.pkl\"\n",
    "    with open(pklpath, 'wb') as handle:\n",
    "        pickle.dump(result_dict, handle)\n",
    "    print(f\"Scores pickled at {pklpath}\")\n",
    "    plot_results(CHART_PATH, result_dict, label, timestamp,100)\n",
    "    return result_dict\n",
    "\n",
    "def train_gym(CHART_PATH, module, timestamp, seed, score_target, \n",
    "              n_episodes,max_t,eps_start,eps_end,eps_decay): #agent_dict, \n",
    "    start = time.time()\n",
    "    label = \"gym\"\n",
    "    env = gym.make(module)\n",
    "    state_size = env.observation_space.shape[0]\n",
    "    action_size = env.action_space.n\n",
    "    agent_dict = {\n",
    "              \"Vanilla\":Vanilla(state_size, action_size, seed),\n",
    "              \"Double\":Double(state_size, action_size, seed),\n",
    "              \"PriorityReplay\":PriorityReplay(state_size, action_size, seed)\n",
    "             }\n",
    "    result_dict = {}\n",
    "    for k,v in agent_dict.items():\n",
    "        agent_name = k\n",
    "        agent = v\n",
    "        scores = []                        # list containing scores from each episode\n",
    "        scores_window = deque(maxlen=100)  # last 100 scores\n",
    "        eps = eps_start\n",
    "        for i_episode in range(1, n_episodes+1):\n",
    "            state = env.reset()\n",
    "            score = 0\n",
    "            for t in range(max_t):\n",
    "                action = agent.act(state,eps)\n",
    "                next_state, reward, done, _ = env.step(action)\n",
    "                agent.step(state, action, reward, next_state, done)\n",
    "                state = next_state\n",
    "                score += reward                                # update the score\n",
    "                if done:                                       # exit loop if episode finished\n",
    "                    break\n",
    "            scores_window.append(score)       # save most recent score\n",
    "            scores.append(score)              # save most recent score\n",
    "            eps = max(eps_end, eps_decay*eps) # decrease epsilon\n",
    "            print('\\rEpisode {}\\tAverage Score: {:.2f}'.format(i_episode, np.mean(scores_window)), end=\"\")\n",
    "            if i_episode % 100 == 0:\n",
    "                print('\\rEpisode {}\\tAverage Score: {:.2f}'.format(i_episode, np.mean(scores_window)))\n",
    "            if np.mean(scores_window)>=score_target:\n",
    "                print('\\nEnvironment solved in {:d} episodes!\\tAverage Score: {:.2f}'.format(i_episode, np.mean(scores_window)))\n",
    "                checkpath = CHECKPOINT_PATH + f'checkpoint-{label}-{agent_name}-{timestamp}.pth'\n",
    "                torch.save(agent.qnetwork_local.state_dict(), checkpath)\n",
    "                print(f\"Checkpoint saved at {checkpath}\")\n",
    "                break\n",
    "        end = time.time()\n",
    "        result_dict[agent_name] = {\n",
    "                        \"scores\":scores,\n",
    "                        \"clocktime\":round((end-start)/60,2)\n",
    "                        }\n",
    "    pklpath = CHART_PATH + f\"ResultDict-{label}-{timestamp}.pkl\"\n",
    "    with open(pklpath, 'wb') as handle:\n",
    "        pickle.dump(result_dict, handle)\n",
    "    print(f\"Scores pickled at {pklpath}\")\n",
    "    plot_results(CHART_PATH, result_dict, label, timestamp,100)\n",
    "    return result_dict\n",
    "\n",
    "# def plot_results(results, label, timestamp, roll_length):\n",
    "#     \"\"\"\n",
    "#     roll_length: averaging window\n",
    "#     \"\"\"\n",
    "#     results = pd.DataFrame(results)\n",
    "#     chartpath = CHART_PATH + f\"Results-{label}-{timestamp}.png\"\n",
    "#     fig = plt.figure()\n",
    "#     ax = fig.add_subplot(111)\n",
    "#     for mod in results.columns:\n",
    "#         scores = results[mod]['scores']\n",
    "#         avg_scores = []\n",
    "#         for i in range(1,len(scores)+1):\n",
    "#             start = np.max(i-roll_length,0)\n",
    "#             end = i\n",
    "#             nm = np.sum(scores[start:end])\n",
    "#             dn = len(scores[start:end])\n",
    "#             avg_scores.append(nm/dn)\n",
    "#         plt.plot(np.arange(len(scores)), avg_scores,label=mod)\n",
    "#         plt.ylabel('Score')\n",
    "#         plt.xlabel('Episode #')\n",
    "#         plt.legend()\n",
    "#     plt.savefig(chartpath)\n",
    "#     print(f\"Chart saved at {chartpath}\")\n",
    "#     plt.show()"
   ]
  },
  {
   "cell_type": "markdown",
   "metadata": {},
   "source": [
    "### Train Unity Bananas"
   ]
  },
  {
   "cell_type": "code",
   "execution_count": 4,
   "metadata": {},
   "outputs": [
    {
     "name": "stderr",
     "output_type": "stream",
     "text": [
      "INFO:unityagents:\n",
      "'Academy' started successfully!\n",
      "Unity Academy name: Academy\n",
      "        Number of Brains: 1\n",
      "        Number of External Brains : 1\n",
      "        Lesson number : 0\n",
      "        Reset Parameters :\n",
      "\t\t\n",
      "Unity brain name: BananaBrain\n",
      "        Number of Visual Observations (per agent): 0\n",
      "        Vector Observation space type: continuous\n",
      "        Vector Observation space size (per agent): 37\n",
      "        Number of stacked Vector Observation: 1\n",
      "        Vector Action space type: discrete\n",
      "        Vector Action space size (per agent): 4\n",
      "        Vector Action descriptions: , , , \n"
     ]
    },
    {
     "name": "stdout",
     "output_type": "stream",
     "text": [
      "Episode 1\tAverage Score: 0.00\n",
      "Environment solved in 1 episodes!\tAverage Score: 0.00\n",
      "Checkpoint saved at /Volumes/BC_Clutch/Dropbox/DeepRLND/rl_navigation/models/checkpoint-unity-Vanilla-201811251501.pth\n",
      "Episode 1\tAverage Score: 2.00\n",
      "Environment solved in 1 episodes!\tAverage Score: 2.00\n",
      "Checkpoint saved at /Volumes/BC_Clutch/Dropbox/DeepRLND/rl_navigation/models/checkpoint-unity-Double-201811251501.pth\n",
      "Episode 1\tAverage Score: 1.00\n",
      "Environment solved in 1 episodes!\tAverage Score: 1.00\n",
      "Checkpoint saved at /Volumes/BC_Clutch/Dropbox/DeepRLND/rl_navigation/models/checkpoint-unity-PriorityReplay-201811251501.pth\n",
      "Scores pickled at /Volumes/BC_Clutch/Dropbox/DeepRLND/rl_navigation/charts/ResultDict-unity-201811251501.pkl\n",
      "Chart saved at /Volumes/BC_Clutch/Dropbox/DeepRLND/rl_navigation/charts/Results-unity-201811251501.png\n"
     ]
    },
    {
     "data": {
      "image/png": "[encoded data removed]",
      "text/plain": [
       "<Figure size 432x288 with 1 Axes>"
      ]
     },
     "metadata": {
      "needs_background": "light"
     },
     "output_type": "display_data"
    }
   ],
   "source": [
    "APP_PATH = PATH + \"data/Banana.app\"\n",
    "score_target = -1.0 # 13.0 to meet project goals\n",
    "seed = 0\n",
    "n_episodes=1000\n",
    "max_t=1000\n",
    "eps_start=0.5\n",
    "eps_end=0.01\n",
    "eps_decay=0.995\n",
    "\n",
    "results = train_unity(APP_PATH, CHART_PATH, timestamp, seed, score_target, \n",
    "                      n_episodes,max_t,eps_start,eps_end,eps_decay)"
   ]
  },
  {
   "cell_type": "markdown",
   "metadata": {},
   "source": [
    "### Train Gym Lunar"
   ]
  },
  {
   "cell_type": "code",
   "execution_count": 5,
   "metadata": {},
   "outputs": [
    {
     "name": "stdout",
     "output_type": "stream",
     "text": [
      "Episode 1\tAverage Score: -117.90\n",
      "Environment solved in 1 episodes!\tAverage Score: -117.90\n",
      "Checkpoint saved at /Volumes/BC_Clutch/Dropbox/DeepRLND/rl_navigation/models/checkpoint-gym-Vanilla-201811251501.pth\n",
      "Episode 1\tAverage Score: -122.38\n",
      "Environment solved in 1 episodes!\tAverage Score: -122.38\n",
      "Checkpoint saved at /Volumes/BC_Clutch/Dropbox/DeepRLND/rl_navigation/models/checkpoint-gym-Double-201811251501.pth\n",
      "Episode 1\tAverage Score: -137.60\n",
      "Environment solved in 1 episodes!\tAverage Score: -137.60\n",
      "Checkpoint saved at /Volumes/BC_Clutch/Dropbox/DeepRLND/rl_navigation/models/checkpoint-gym-PriorityReplay-201811251501.pth\n",
      "Scores pickled at /Volumes/BC_Clutch/Dropbox/DeepRLND/rl_navigation/charts/ResultDict-gym-201811251501.pkl\n",
      "Chart saved at /Volumes/BC_Clutch/Dropbox/DeepRLND/rl_navigation/charts/Results-gym-201811251501.png\n"
     ]
    },
    {
     "data": {
      "image/png": "[encoded data removed]",
      "text/plain": [
       "<Figure size 432x288 with 1 Axes>"
      ]
     },
     "metadata": {
      "needs_background": "light"
     },
     "output_type": "display_data"
    }
   ],
   "source": [
    "module = \"LunarLander-v2\"\n",
    "score_target = -200#200.0\n",
    "# state_size = 8\n",
    "# action_size = 4\n",
    "# seed = 0\n",
    "n_episodes=2000\n",
    "# max_t=1000\n",
    "# eps_start=0.5\n",
    "# eps_end=0.01\n",
    "# eps_decay=0.995\n",
    "\n",
    "# agent_dict = {\n",
    "#               \"Vanilla\":Vanilla(state_size, action_size, seed),\n",
    "#               \"Double\":Double(state_size, action_size, seed),\n",
    "#               \"PriorityReplay\":PriorityReplay(state_size, action_size, seed)\n",
    "#              }\n",
    "results = train_gym(CHART_PATH, module, timestamp, seed, score_target, \n",
    "                    n_episodes,max_t,eps_start,eps_end,eps_decay)#agent_dict, "
   ]
  },
  {
   "cell_type": "markdown",
   "metadata": {},
   "source": [
    "### Train Gym CartPole"
   ]
  },
  {
   "cell_type": "code",
   "execution_count": 6,
   "metadata": {
    "collapsed": true
   },
   "outputs": [],
   "source": [
    "# env = gym.make(\"CartPole-v0\")"
   ]
  },
  {
   "cell_type": "code",
   "execution_count": 7,
   "metadata": {},
   "outputs": [],
   "source": [
    "# env.action_space"
   ]
  },
  {
   "cell_type": "code",
   "execution_count": 8,
   "metadata": {},
   "outputs": [],
   "source": [
    "# env.observation_space.shape"
   ]
  },
  {
   "cell_type": "code",
   "execution_count": 9,
   "metadata": {},
   "outputs": [
    {
     "name": "stdout",
     "output_type": "stream",
     "text": [
      "\r",
      "Episode 1\tAverage Score: 12.00\n",
      "Environment solved in 1 episodes!\tAverage Score: 12.00\n",
      "Checkpoint saved at /Volumes/BC_Clutch/Dropbox/DeepRLND/rl_navigation/models/checkpoint-gym-Vanilla-201811251501.pth\n",
      "\r",
      "Episode 1\tAverage Score: 10.00\n",
      "Environment solved in 1 episodes!\tAverage Score: 10.00\n",
      "Checkpoint saved at /Volumes/BC_Clutch/Dropbox/DeepRLND/rl_navigation/models/checkpoint-gym-Double-201811251501.pth\n",
      "\r",
      "Episode 1\tAverage Score: 10.00\n",
      "Environment solved in 1 episodes!\tAverage Score: 10.00\n",
      "Checkpoint saved at /Volumes/BC_Clutch/Dropbox/DeepRLND/rl_navigation/models/checkpoint-gym-PriorityReplay-201811251501.pth\n",
      "Scores pickled at /Volumes/BC_Clutch/Dropbox/DeepRLND/rl_navigation/charts/ResultDict-gym-201811251501.pkl\n",
      "Chart saved at /Volumes/BC_Clutch/Dropbox/DeepRLND/rl_navigation/charts/Results-gym-201811251501.png\n"
     ]
    },
    {
     "data": {
      "image/png": "[encoded data removed]",
      "text/plain": [
       "<Figure size 432x288 with 1 Axes>"
      ]
     },
     "metadata": {
      "needs_background": "light"
     },
     "output_type": "display_data"
    }
   ],
   "source": [
    "module = \"CartPole-v0\"\n",
    "score_target = -200#195.0\n",
    "# state_size = 4\n",
    "# action_size = 2\n",
    "# seed = 0\n",
    "n_episodes=2000\n",
    "# max_t=1000\n",
    "# eps_start=0.5\n",
    "# eps_end=0.01\n",
    "# eps_decay=0.995\n",
    "\n",
    "# agent_dict = {\n",
    "#               \"Vanilla\":Vanilla(state_size, action_size, seed),\n",
    "#               \"Double\":Double(state_size, action_size, seed),\n",
    "#               \"PriorityReplay\":PriorityReplay(state_size, action_size, seed)\n",
    "#              }\n",
    "results = train_gym(CHART_PATH, module, timestamp, seed, score_target, \n",
    "                    n_episodes,max_t,eps_start,eps_end,eps_decay)"
   ]
  },
  {
   "cell_type": "markdown",
   "metadata": {},
   "source": [
    "### Train Gym Mountain Car"
   ]
  },
  {
   "cell_type": "code",
   "execution_count": 10,
   "metadata": {},
   "outputs": [
    {
     "name": "stdout",
     "output_type": "stream",
     "text": [
      "\u001b[33mWARN: gym.spaces.Box autodetected dtype as <class 'numpy.float32'>. Please provide explicit dtype.\u001b[0m\n",
      "Episode 1\tAverage Score: -200.00\n",
      "Environment solved in 1 episodes!\tAverage Score: -200.00\n",
      "Checkpoint saved at /Volumes/BC_Clutch/Dropbox/DeepRLND/rl_navigation/models/checkpoint-gym-Vanilla-201811251501.pth\n",
      "Episode 1\tAverage Score: -200.00\n",
      "Environment solved in 1 episodes!\tAverage Score: -200.00\n",
      "Checkpoint saved at /Volumes/BC_Clutch/Dropbox/DeepRLND/rl_navigation/models/checkpoint-gym-Double-201811251501.pth\n",
      "Episode 1\tAverage Score: -200.00\n",
      "Environment solved in 1 episodes!\tAverage Score: -200.00\n",
      "Checkpoint saved at /Volumes/BC_Clutch/Dropbox/DeepRLND/rl_navigation/models/checkpoint-gym-PriorityReplay-201811251501.pth\n",
      "Scores pickled at /Volumes/BC_Clutch/Dropbox/DeepRLND/rl_navigation/charts/ResultDict-gym-201811251501.pkl\n",
      "Chart saved at /Volumes/BC_Clutch/Dropbox/DeepRLND/rl_navigation/charts/Results-gym-201811251501.png\n"
     ]
    },
    {
     "data": {
      "image/png": "[encoded data removed]",
      "text/plain": [
       "<Figure size 432x288 with 1 Axes>"
      ]
     },
     "metadata": {
      "needs_background": "light"
     },
     "output_type": "display_data"
    }
   ],
   "source": [
    "module = \"MountainCar-v0\"\n",
    "score_target = -200#-110.0\n",
    "# state_size = 8\n",
    "# action_size = 4\n",
    "# seed = 0\n",
    "n_episodes=2000\n",
    "# max_t=1000\n",
    "# eps_start=0.5\n",
    "# eps_end=0.01\n",
    "# eps_decay=0.995\n",
    "\n",
    "# agent_dict = {\n",
    "#               \"Vanilla\":Vanilla(state_size, action_size, seed),\n",
    "#               \"Double\":Double(state_size, action_size, seed),\n",
    "#               \"PriorityReplay\":PriorityReplay(state_size, action_size, seed)\n",
    "#              }\n",
    "results = train_gym(CHART_PATH, module, timestamp, seed, score_target, \n",
    "                    n_episodes,max_t,eps_start,eps_end,eps_decay)"
   ]
  },
  {
   "cell_type": "markdown",
   "metadata": {
    "collapsed": true
   },
   "source": [
    "### Resources\n",
    "\n",
    "[Deep Q Network](https://github.com/udacity/deep-reinforcement-learning/tree/master/dqn).  Deep Reinforcement Learning Nanodegree, Udacity.\n",
    "\n",
    "Albinet, Franck.  [Deep Q Network](https://github.com/franckalbinet/drlnd-project1/blob/master/dqn_agent.py).\n",
    "\n"
   ]
  },
  {
   "cell_type": "code",
   "execution_count": null,
   "metadata": {
    "collapsed": true
   },
   "outputs": [],
   "source": []
  }
 ],
 "metadata": {
  "kernelspec": {
   "display_name": "drlnd",
   "language": "python",
   "name": "drlnd"
  },
  "language_info": {
   "codemirror_mode": {
    "name": "ipython",
    "version": 3
   },
   "file_extension": ".py",
   "mimetype": "text/x-python",
   "name": "python",
   "nbconvert_exporter": "python",
   "pygments_lexer": "ipython3",
   "version": "3.6.7"
  }
 },
 "nbformat": 4,
 "nbformat_minor": 2
}
