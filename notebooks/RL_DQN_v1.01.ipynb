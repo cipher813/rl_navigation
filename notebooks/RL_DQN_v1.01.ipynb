{
 "cells": [
  {
   "cell_type": "code",
   "execution_count": null,
   "metadata": {},
   "outputs": [
    {
     "name": "stdout",
     "output_type": "stream",
     "text": [
      "Begin training LunarLander-v2-gym.\n",
      "Module: LunarLander-v2-gym\n",
      "Agent: Dueling\n"
     ]
    },
    {
     "name": "stderr",
     "output_type": "stream",
     "text": [
      "/home/brianmcmahon/gym/gym/envs/registration.py:14: PkgResourcesDeprecationWarning: Parameters to load are deprecated.  Call .resolve and .require separately.\n",
      "  result = entry_point.load(False)\n"
     ]
    },
    {
     "name": "stdout",
     "output_type": "stream",
     "text": [
      "Episode 100\tAverage Score: -153.17\n",
      "Episode 147\tAverage Score: -68.758"
     ]
    }
   ],
   "source": [
    "from dqn_helper5 import *\n",
    "\n",
    "import re\n",
    "import datetime\n",
    "\n",
    "# path information\n",
    "# PATH = \"/Volumes/BC_Clutch/Dropbox/DeepRLND/rl_navigation/\"\n",
    "PATH = \"/home/brianmcmahon/rl_navigation/\"\n",
    "CHART_PATH = PATH + \"charts/\"\n",
    "CHECKPOINT_PATH = PATH + \"models/\"\n",
    "\n",
    "timestamp = re.sub(r\"\\D\",\"\",str(datetime.datetime.now()))[:12]\n",
    "\n",
    "seed = 0\n",
    "n_episodes=3000\n",
    "max_t=1000\n",
    "eps_start=0.4\n",
    "eps_end=0.01\n",
    "eps_decay=0.995\n",
    "\n",
    "rd = {}\n",
    "env_dict = {\n",
    "#             \"Bananas\":[\"unity\",13.0],\n",
    "            \"LunarLander-v2\":[\"gym\",200.0],\n",
    "            \"CartPole-v0\":[\"gym\",195.0],\n",
    "#             \"MountainCar-v0\":[\"gym\",-110],\n",
    "            }\n",
    "\n",
    "agent_dict = {\n",
    "          \"Dueling\":Dueling,\n",
    "          \"PriorityReplay\":PriorityReplay,\n",
    "          \"Double\":Double,\n",
    "          \"Vanilla\":Vanilla\n",
    "         }\n",
    "\n",
    "rd = train_envs(PATH, CHART_PATH, CHECKPOINT_PATH, agent_dict, timestamp, env_dict, seed, \n",
    "                n_episodes,max_t,eps_start,eps_end,eps_decay)"
   ]
  },
  {
   "cell_type": "code",
   "execution_count": null,
   "metadata": {},
   "outputs": [],
   "source": [
    "results = chart_results(CHART_PATH, rd)"
   ]
  }
 ],
 "metadata": {
  "kernelspec": {
   "display_name": "DRLND",
   "language": "python",
   "name": "drlnd"
  },
  "language_info": {
   "codemirror_mode": {
    "name": "ipython",
    "version": 3
   },
   "file_extension": ".py",
   "mimetype": "text/x-python",
   "name": "python",
   "nbconvert_exporter": "python",
   "pygments_lexer": "ipython3",
   "version": "3.6.7"
  }
 },
 "nbformat": 4,
 "nbformat_minor": 2
}
